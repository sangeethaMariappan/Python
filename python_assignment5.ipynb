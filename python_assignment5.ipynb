{
  "nbformat": 4,
  "nbformat_minor": 0,
  "metadata": {
    "colab": {
      "provenance": [],
      "authorship_tag": "ABX9TyPnWylRtrorPbqE0k7fy52R",
      "include_colab_link": true
    },
    "kernelspec": {
      "name": "python3",
      "display_name": "Python 3"
    },
    "language_info": {
      "name": "python"
    }
  },
  "cells": [
    {
      "cell_type": "markdown",
      "metadata": {
        "id": "view-in-github",
        "colab_type": "text"
      },
      "source": [
        "<a href=\"https://colab.research.google.com/github/sangeethaMariappan/Python/blob/main/python_assignment5.ipynb\" target=\"_parent\"><img src=\"https://colab.research.google.com/assets/colab-badge.svg\" alt=\"Open In Colab\"/></a>"
      ]
    },
    {
      "cell_type": "code",
      "execution_count": 1,
      "metadata": {
        "colab": {
          "base_uri": "https://localhost:8080/"
        },
        "id": "JIXbEFazn0ew",
        "outputId": "9b49a8da-39c7-4942-d478-1b61674cbc3a"
      },
      "outputs": [
        {
          "output_type": "stream",
          "name": "stdout",
          "text": [
            "\n",
            "Options:\n",
            "1. Add Task\n",
            "2. Remove Task\n",
            "3. View Tasks\n",
            "4. Exit\n",
            "Enter your choice (1-4): 1\n",
            "Enter the task to add: drink water\n",
            "Task added: drink water\n",
            "\n",
            "Options:\n",
            "1. Add Task\n",
            "2. Remove Task\n",
            "3. View Tasks\n",
            "4. Exit\n",
            "Enter your choice (1-4): 2\n",
            "Pending Tasks:\n",
            "1. drink water\n",
            "Enter task number to remove: skipping\n",
            "Please enter a valid number.\n",
            "\n",
            "Options:\n",
            "1. Add Task\n",
            "2. Remove Task\n",
            "3. View Tasks\n",
            "4. Exit\n",
            "Enter your choice (1-4): 3\n",
            "Pending Tasks:\n",
            "1. drink water\n",
            "\n",
            "Options:\n",
            "1. Add Task\n",
            "2. Remove Task\n",
            "3. View Tasks\n",
            "4. Exit\n",
            "Enter your choice (1-4): running\n",
            "Invalid choice. Please select from 1 to 4.\n",
            "\n",
            "Options:\n",
            "1. Add Task\n",
            "2. Remove Task\n",
            "3. View Tasks\n",
            "4. Exit\n",
            "Enter your choice (1-4): 3\n",
            "Pending Tasks:\n",
            "1. drink water\n",
            "\n",
            "Options:\n",
            "1. Add Task\n",
            "2. Remove Task\n",
            "3. View Tasks\n",
            "4. Exit\n",
            "Enter your choice (1-4): 3\n",
            "Pending Tasks:\n",
            "1. drink water\n",
            "\n",
            "Options:\n",
            "1. Add Task\n",
            "2. Remove Task\n",
            "3. View Tasks\n",
            "4. Exit\n",
            "Enter your choice (1-4): 4\n",
            "Goodbye! Have a productive day!\n"
          ]
        }
      ],
      "source": [
        "# To-Do List Program\n",
        "tasks = []\n",
        "def add_task():\n",
        "    task = input(\"Enter the task to add: \")\n",
        "    tasks.append(task)\n",
        "    print(f\"Task added: {task}\")\n",
        "def remove_task():\n",
        "    if not tasks:\n",
        "        print(\"No tasks to remove.\")\n",
        "        return\n",
        "    view_tasks()\n",
        "    try:\n",
        "        task_num = int(input(\"Enter task number to remove: \")) - 1\n",
        "        if 0 <= task_num < len(tasks):\n",
        "            removed = tasks.pop(task_num)\n",
        "            print(f\"Task removed: {removed}\")\n",
        "        else:\n",
        "            print(\"Invalid task number.\")\n",
        "    except ValueError:\n",
        "        print(\"Please enter a valid number.\")\n",
        "def view_tasks():\n",
        "    if not tasks:\n",
        "        print(\"No tasks in the list.\")\n",
        "    else:\n",
        "        print(\"Pending Tasks:\")\n",
        "        for i, task in enumerate(tasks, 1):\n",
        "            print(f\"{i}. {task}\")\n",
        "while True:\n",
        "    print(\"\\nOptions:\")\n",
        "    print(\"1. Add Task\")\n",
        "    print(\"2. Remove Task\")\n",
        "    print(\"3. View Tasks\")\n",
        "    print(\"4. Exit\")\n",
        "\n",
        "    choice = input(\"Enter your choice (1-4): \")\n",
        "\n",
        "    if choice == '1':\n",
        "        add_task()\n",
        "    elif choice == '2':\n",
        "        remove_task()\n",
        "    elif choice == '3':\n",
        "        view_tasks()\n",
        "    elif choice == '4':\n",
        "        print(\"Goodbye! Have a productive day!\")\n",
        "        break\n",
        "    else:\n",
        "        print(\"Invalid choice. Please select from 1 to 4.\")\n"
      ]
    }
  ]
}