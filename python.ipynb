{
  "nbformat": 4,
  "nbformat_minor": 0,
  "metadata": {
    "colab": {
      "provenance": [],
      "authorship_tag": "ABX9TyNtLNp2QwVMR9CsU5DcLJkl",
      "include_colab_link": true
    },
    "kernelspec": {
      "name": "python3",
      "display_name": "Python 3"
    },
    "language_info": {
      "name": "python"
    }
  },
  "cells": [
    {
      "cell_type": "markdown",
      "metadata": {
        "id": "view-in-github",
        "colab_type": "text"
      },
      "source": [
        "<a href=\"https://colab.research.google.com/github/sangeethaMariappan/Python/blob/main/python.ipynb\" target=\"_parent\"><img src=\"https://colab.research.google.com/assets/colab-badge.svg\" alt=\"Open In Colab\"/></a>"
      ]
    },
    {
      "cell_type": "code",
      "execution_count": 3,
      "metadata": {
        "colab": {
          "base_uri": "https://localhost:8080/"
        },
        "id": "AsYWQw4Fedob",
        "outputId": "93547818-76c9-4b4b-8ff8-934226e3df5f"
      },
      "outputs": [
        {
          "output_type": "stream",
          "name": "stdout",
          "text": [
            "Enter price of item 1: 500\n",
            "Enter price of item 2: 340\n",
            "Enter price of item 3: 100\n",
            "Total Price: $ 940.0\n",
            "Discount: $ 94.0\n",
            "Final Amount to Pay: $ 846.0\n"
          ]
        },
        {
          "output_type": "execute_result",
          "data": {
            "text/plain": [
              "88"
            ]
          },
          "metadata": {},
          "execution_count": 3
        }
      ],
      "source": [
        "#online shopping cart\n",
        "item1 = float(input(\"Enter price of item 1: \"))\n",
        "item2 = float(input(\"Enter price of item 2: \"))\n",
        "item3 = float(input(\"Enter price of item 3: \"))\n",
        "total = item1 + item2 + item3\n",
        "if total > 500:\n",
        "    discount = total * 0.10\n",
        "else:\n",
        "    discount = 0\n",
        "\n",
        "final_amount = total - discount\n",
        "\n",
        "\n",
        "print(\"Total Price: $\", total)\n",
        "print(\"Discount: $\", discount)\n",
        "print(\"Final Amount to Pay: $\", final_amount)\n",
        "88"
      ]
    },
    {
      "cell_type": "code",
      "source": [
        "#Grading System\n",
        "mark1 = float(input(\"Enter marks for subject 1: \"))\n",
        "mark2 = float(input(\"Enter marks for subject 2: \"))\n",
        "mark3 = float(input(\"Enter marks for subject 3: \"))\n",
        "mark4 = float(input(\"Enter marks for subject 4: \"))\n",
        "mark5 = float(input(\"Enter marks for subject 5: \"))\n",
        "\n",
        "\n",
        "total = mark1 + mark2 + mark3 + mark4 + mark5\n",
        "average = total / 5\n",
        "\n",
        "if average >= 90:\n",
        "    grade = \"A+\"\n",
        "elif average >= 80:\n",
        "    grade = \"A\"\n",
        "elif average >= 70:\n",
        "    grade = \"B\"\n",
        "elif average >= 60:\n",
        "    grade = \"C\"\n",
        "else:\n",
        "    grade = \"Fail\"\n",
        "99\n",
        "print(\"Average Percentage:\", average)\n",
        "print(\"Grade:\", grade)\n"
      ],
      "metadata": {
        "colab": {
          "base_uri": "https://localhost:8080/"
        },
        "id": "TOqNDlace0HJ",
        "outputId": "b66c83f8-da48-4fb2-b94a-97626744bd15"
      },
      "execution_count": 4,
      "outputs": [
        {
          "output_type": "stream",
          "name": "stdout",
          "text": [
            "Enter marks for subject 1: 88\n",
            "Enter marks for subject 2: 89\n",
            "Enter marks for subject 3: 100\n",
            "Enter marks for subject 4: 77\n",
            "Enter marks for subject 5: 99\n",
            "Average Percentage: 90.6\n",
            "Grade: A+\n"
          ]
        }
      ]
    },
    {
      "cell_type": "code",
      "source": [
        "#Students Attendance Tracker\n",
        "\n",
        "total = int(input(\"Enter total classes: \"))\n",
        "attended = int(input(\"Enter attended classes: \"))\n",
        "percent = (attended / total) * 100\n",
        "if percent >= 75:\n",
        "    status = \"Present\"\n",
        "else:\n",
        "    status = \"Absent\"\n",
        "print(\"Attendance:\", round(percent, 2), \"%\")\n",
        "print(\"Status:\", status)\n",
        "\n"
      ],
      "metadata": {
        "colab": {
          "base_uri": "https://localhost:8080/"
        },
        "id": "AvmojfyIe0PO",
        "outputId": "86673201-fd94-4169-d69b-b4bfb2e4f357"
      },
      "execution_count": 6,
      "outputs": [
        {
          "output_type": "stream",
          "name": "stdout",
          "text": [
            "Enter total classes: 8\n",
            "Enter attended classes: 6\n",
            "Attendance: 75.0 %\n",
            "Status: Present\n"
          ]
        }
      ]
    },
    {
      "cell_type": "code",
      "source": [
        "#Age group Classifier\n",
        "age = int(input(\"Enter your age: \"))\n",
        "if age >= 0 and age <= 12:\n",
        "    group = \"Child\"\n",
        "elif age >= 13 and age <= 19:\n",
        "    group = \"Teenager\"\n",
        "elif age >= 20 and age <= 59:\n",
        "    group = \"Adult\"\n",
        "elif age >= 60:\n",
        "    group = \"Senior Citizen\"\n",
        "else:\n",
        "    group = \"Invalid age\"\n",
        "print(\"You belong to:\", group)\n"
      ],
      "metadata": {
        "colab": {
          "base_uri": "https://localhost:8080/"
        },
        "id": "nm7ZkxcSe0S-",
        "outputId": "77b1e489-4802-49b3-b77d-6416f4addc99"
      },
      "execution_count": 8,
      "outputs": [
        {
          "output_type": "stream",
          "name": "stdout",
          "text": [
            "Enter your age: 21\n",
            "You belong to: Adult\n"
          ]
        }
      ]
    }
  ]
}